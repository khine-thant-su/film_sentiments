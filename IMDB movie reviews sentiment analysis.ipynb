{
 "cells": [
  {
   "cell_type": "markdown",
   "id": "09fffd55",
   "metadata": {},
   "source": [
    "## Dataset: https://www.kaggle.com/datasets/yasserh/imdb-movie-ratings-sentiment-analysis"
   ]
  },
  {
   "cell_type": "code",
   "execution_count": 1,
   "id": "5af107a9",
   "metadata": {},
   "outputs": [],
   "source": [
    "import pandas as pd\n",
    "import string\n",
    "import re\n",
    "import nltk\n",
    "import time\n",
    "from nltk.corpus import stopwords\n",
    "from zipfile import ZipFile"
   ]
  },
  {
   "cell_type": "code",
   "execution_count": 2,
   "id": "3806447a",
   "metadata": {},
   "outputs": [],
   "source": [
    "with ZipFile('imdb ratings.zip') as zf:\n",
    "    f = zf.open('movie.csv')\n",
    "    df = pd.read_csv(f)"
   ]
  },
  {
   "cell_type": "code",
   "execution_count": 3,
   "id": "c623e5d8",
   "metadata": {},
   "outputs": [
    {
     "data": {
      "text/html": [
       "<div>\n",
       "<style scoped>\n",
       "    .dataframe tbody tr th:only-of-type {\n",
       "        vertical-align: middle;\n",
       "    }\n",
       "\n",
       "    .dataframe tbody tr th {\n",
       "        vertical-align: top;\n",
       "    }\n",
       "\n",
       "    .dataframe thead th {\n",
       "        text-align: right;\n",
       "    }\n",
       "</style>\n",
       "<table border=\"1\" class=\"dataframe\">\n",
       "  <thead>\n",
       "    <tr style=\"text-align: right;\">\n",
       "      <th></th>\n",
       "      <th>text</th>\n",
       "      <th>label</th>\n",
       "    </tr>\n",
       "  </thead>\n",
       "  <tbody>\n",
       "    <tr>\n",
       "      <th>0</th>\n",
       "      <td>I grew up (b. 1965) watching and loving the Th...</td>\n",
       "      <td>0</td>\n",
       "    </tr>\n",
       "    <tr>\n",
       "      <th>1</th>\n",
       "      <td>When I put this movie in my DVD player, and sa...</td>\n",
       "      <td>0</td>\n",
       "    </tr>\n",
       "    <tr>\n",
       "      <th>2</th>\n",
       "      <td>Why do people who do not know what a particula...</td>\n",
       "      <td>0</td>\n",
       "    </tr>\n",
       "    <tr>\n",
       "      <th>3</th>\n",
       "      <td>Even though I have great interest in Biblical ...</td>\n",
       "      <td>0</td>\n",
       "    </tr>\n",
       "    <tr>\n",
       "      <th>4</th>\n",
       "      <td>Im a die hard Dads Army fan and nothing will e...</td>\n",
       "      <td>1</td>\n",
       "    </tr>\n",
       "  </tbody>\n",
       "</table>\n",
       "</div>"
      ],
      "text/plain": [
       "                                                text  label\n",
       "0  I grew up (b. 1965) watching and loving the Th...      0\n",
       "1  When I put this movie in my DVD player, and sa...      0\n",
       "2  Why do people who do not know what a particula...      0\n",
       "3  Even though I have great interest in Biblical ...      0\n",
       "4  Im a die hard Dads Army fan and nothing will e...      1"
      ]
     },
     "execution_count": 3,
     "metadata": {},
     "output_type": "execute_result"
    }
   ],
   "source": [
    "df.head()"
   ]
  },
  {
   "cell_type": "markdown",
   "id": "7f913286",
   "metadata": {},
   "source": [
    "## cleaning the review strings"
   ]
  },
  {
   "cell_type": "code",
   "execution_count": 4,
   "id": "c8af9fd8",
   "metadata": {},
   "outputs": [
    {
     "name": "stdout",
     "output_type": "stream",
     "text": [
      "(40000, 2)\n",
      "(39723, 2)\n"
     ]
    }
   ],
   "source": [
    "print(df.shape) #before removing duplicates\n",
    "df = df.drop_duplicates(ignore_index = True)\n",
    "print(df.shape) #after removing duplicates"
   ]
  },
  {
   "cell_type": "code",
   "execution_count": 5,
   "id": "ff146966",
   "metadata": {},
   "outputs": [
    {
     "data": {
      "text/plain": [
       "2000"
      ]
     },
     "execution_count": 5,
     "metadata": {},
     "output_type": "execute_result"
    }
   ],
   "source": [
    "len(df[:2000]) "
   ]
  },
  {
   "cell_type": "code",
   "execution_count": 6,
   "id": "84052b2c",
   "metadata": {},
   "outputs": [
    {
     "data": {
      "text/html": [
       "<div>\n",
       "<style scoped>\n",
       "    .dataframe tbody tr th:only-of-type {\n",
       "        vertical-align: middle;\n",
       "    }\n",
       "\n",
       "    .dataframe tbody tr th {\n",
       "        vertical-align: top;\n",
       "    }\n",
       "\n",
       "    .dataframe thead th {\n",
       "        text-align: right;\n",
       "    }\n",
       "</style>\n",
       "<table border=\"1\" class=\"dataframe\">\n",
       "  <thead>\n",
       "    <tr style=\"text-align: right;\">\n",
       "      <th></th>\n",
       "      <th>text</th>\n",
       "      <th>label</th>\n",
       "    </tr>\n",
       "  </thead>\n",
       "  <tbody>\n",
       "    <tr>\n",
       "      <th>0</th>\n",
       "      <td>I grew up (b. 1965) watching and loving the Th...</td>\n",
       "      <td>neg</td>\n",
       "    </tr>\n",
       "    <tr>\n",
       "      <th>1</th>\n",
       "      <td>When I put this movie in my DVD player, and sa...</td>\n",
       "      <td>neg</td>\n",
       "    </tr>\n",
       "    <tr>\n",
       "      <th>2</th>\n",
       "      <td>Why do people who do not know what a particula...</td>\n",
       "      <td>neg</td>\n",
       "    </tr>\n",
       "    <tr>\n",
       "      <th>3</th>\n",
       "      <td>Even though I have great interest in Biblical ...</td>\n",
       "      <td>neg</td>\n",
       "    </tr>\n",
       "    <tr>\n",
       "      <th>4</th>\n",
       "      <td>Im a die hard Dads Army fan and nothing will e...</td>\n",
       "      <td>pos</td>\n",
       "    </tr>\n",
       "  </tbody>\n",
       "</table>\n",
       "</div>"
      ],
      "text/plain": [
       "                                                text label\n",
       "0  I grew up (b. 1965) watching and loving the Th...   neg\n",
       "1  When I put this movie in my DVD player, and sa...   neg\n",
       "2  Why do people who do not know what a particula...   neg\n",
       "3  Even though I have great interest in Biblical ...   neg\n",
       "4  Im a die hard Dads Army fan and nothing will e...   pos"
      ]
     },
     "execution_count": 6,
     "metadata": {},
     "output_type": "execute_result"
    }
   ],
   "source": [
    "#changing the label: 0 = negative, 1 = positive\n",
    "df.loc[df['label'] == 0, 'label'] = 'neg'\n",
    "df.loc[df['label'] == 1, 'label'] = 'pos'\n",
    "df.head()"
   ]
  },
  {
   "cell_type": "code",
   "execution_count": 7,
   "id": "5b7b841f",
   "metadata": {},
   "outputs": [],
   "source": [
    "# define a function that cleans up each string\n",
    "def word_processor(text):\n",
    "    text = \"\".join([i.lower() for i in text.replace('<br', '') if i not in string.punctuation]) # lower case, remove <br, remove punctuation, remove white spaces\n",
    "    text = re.sub('\\s+',' ', text)\n",
    "    #text = ' '.join([PorterStemmer().stem(word) for word in text.split()])  #DO I NEED TO STEM THE WORDS?\n",
    "    text = ' '.join([word for word in text.split() if word not in stopwords.words('english')])\n",
    "    return text"
   ]
  },
  {
   "cell_type": "code",
   "execution_count": 8,
   "id": "10ddf5eb",
   "metadata": {},
   "outputs": [],
   "source": [
    "#make a list of tuples --> [([words], corresponding class label)] to train the model on\n",
    "\n",
    "test_list = []\n",
    "\n",
    "start = time.time()\n",
    "for i in range(len(df[:2000])):\n",
    "    new_string = word_processor(df.iloc[i]['text'])\n",
    "    sentiment = df.iloc[i]['label']\n",
    "    test_list.append((new_string.split(' '), sentiment))\n",
    "end = time.time()"
   ]
  },
  {
   "cell_type": "code",
   "execution_count": 9,
   "id": "6dce577a",
   "metadata": {},
   "outputs": [
    {
     "name": "stdout",
     "output_type": "stream",
     "text": [
      "91.63279128074646\n"
     ]
    }
   ],
   "source": [
    "#seeing how long it takes to prepare my list\n",
    "duration = end - start\n",
    "print(duration)"
   ]
  },
  {
   "cell_type": "markdown",
   "id": "2f6eafb4",
   "metadata": {},
   "source": [
    "## defining a feature extractor to use to train my model"
   ]
  },
  {
   "cell_type": "code",
   "execution_count": 10,
   "id": "d6f78bae",
   "metadata": {},
   "outputs": [],
   "source": [
    "import random\n",
    "random.shuffle(test_list)"
   ]
  },
  {
   "cell_type": "code",
   "execution_count": 11,
   "id": "82c24f50",
   "metadata": {},
   "outputs": [],
   "source": [
    "#get the 2000 most common words out of the first 2000 rows from the original df\n",
    "review_words = [i[0] for i in test_list]\n",
    "words_flat = [word for rev in review_words for word in rev] #merging the list of lists into one giant list\n",
    "\n",
    "all_words = nltk.FreqDist(w.lower() for w in words_flat) \n",
    "comm_words = list(all_words)[:2000]"
   ]
  },
  {
   "cell_type": "code",
   "execution_count": 12,
   "id": "ab7bee5e",
   "metadata": {},
   "outputs": [],
   "source": [
    "#feature extractor\n",
    "\n",
    "def review_features(review):\n",
    "    words = set(review) #decomposing the review into unique words\n",
    "    features = {}\n",
    "    for w in comm_words:\n",
    "        features[f'contains({w})'] = (w in words)\n",
    "    return features"
   ]
  },
  {
   "cell_type": "markdown",
   "id": "1a4baaad",
   "metadata": {},
   "source": [
    "## training Naive Bayes classifier"
   ]
  },
  {
   "cell_type": "code",
   "execution_count": 13,
   "id": "2023fb54",
   "metadata": {},
   "outputs": [],
   "source": [
    "#featuresets will be used to train the model that if a list of words contains some words and does not contain other words\n",
    "#from the 2000 most common words, that list of words should be paired with its corresponding sentiment.\n",
    "featuresets = [(review_features(rev), label) for (rev, label) in test_list]\n",
    "\n",
    "train_set, test_set = featuresets[:1500], featuresets[1500:]\n",
    "classifier = nltk.NaiveBayesClassifier.train(train_set)"
   ]
  },
  {
   "cell_type": "code",
   "execution_count": 14,
   "id": "63eca305",
   "metadata": {},
   "outputs": [
    {
     "name": "stdout",
     "output_type": "stream",
     "text": [
      "NB model accuracy: 0.834\n"
     ]
    }
   ],
   "source": [
    "print('NB model accuracy:', nltk.classify.accuracy(classifier, test_set))"
   ]
  },
  {
   "cell_type": "code",
   "execution_count": 15,
   "id": "201b7349",
   "metadata": {},
   "outputs": [
    {
     "name": "stdout",
     "output_type": "stream",
     "text": [
      "Most Informative Features\n",
      "        contains(wasted) = True              neg : pos    =     15.2 : 1.0\n",
      "          contains(mess) = True              neg : pos    =     12.2 : 1.0\n",
      "         contains(worst) = True              neg : pos    =     11.8 : 1.0\n",
      "         contains(waste) = True              neg : pos    =     11.6 : 1.0\n",
      "        contains(finest) = True              pos : neg    =     11.3 : 1.0\n"
     ]
    }
   ],
   "source": [
    "classifier.show_most_informative_features(5)"
   ]
  },
  {
   "cell_type": "code",
   "execution_count": 16,
   "id": "80ebce68",
   "metadata": {},
   "outputs": [],
   "source": [
    "#Question: do I need to store this classifier by pickling it? "
   ]
  }
 ],
 "metadata": {
  "kernelspec": {
   "display_name": "Python 3 (ipykernel)",
   "language": "python",
   "name": "python3"
  },
  "language_info": {
   "codemirror_mode": {
    "name": "ipython",
    "version": 3
   },
   "file_extension": ".py",
   "mimetype": "text/x-python",
   "name": "python",
   "nbconvert_exporter": "python",
   "pygments_lexer": "ipython3",
   "version": "3.10.2"
  }
 },
 "nbformat": 4,
 "nbformat_minor": 5
}
